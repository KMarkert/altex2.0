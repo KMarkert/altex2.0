{
 "cells": [
  {
   "cell_type": "markdown",
   "metadata": {},
   "source": [
    "This notebook goes through example Python code to send access altimetry data from AltEx2.0"
   ]
  },
  {
   "cell_type": "code",
   "execution_count": 1,
   "metadata": {},
   "outputs": [
    {
     "name": "stdout",
     "output_type": "stream",
     "text": [
      "Populating the interactive namespace from numpy and matplotlib\n"
     ]
    }
   ],
   "source": [
    "%pylab inline\n",
    "\n",
    "import warnings\n",
    "import requests\n",
    "import pandas as pd\n",
    "\n",
    "warnings.simplefilter(\"ignore\")"
   ]
  },
  {
   "cell_type": "code",
   "execution_count": 2,
   "metadata": {},
   "outputs": [],
   "source": [
    "# specify the API URL for altex\n",
    "url = \"https://altex.servirglobal.net/api/\"\n",
    "\n",
    "# first we are going to hit the `getTable` endpoint\n",
    "enpoint = \"getTable\""
   ]
  },
  {
   "cell_type": "code",
   "execution_count": 3,
   "metadata": {},
   "outputs": [],
   "source": [
    "# define the parameters needed for the request\n",
    "payload = dict(\n",
    "    sensor = \"Jason2\",\n",
    "    startTime = \"2008-01-01\",\n",
    "    endTime = \"2018-01-01\",\n",
    "    region=\"104.467 12.5197, 104.472 12.5303, 104.487 12.5210, 104.483 12.5129, 104.467 12.5197\"\n",
    ")"
   ]
  },
  {
   "cell_type": "code",
   "execution_count": 4,
   "metadata": {},
   "outputs": [],
   "source": [
    "# send the request\n",
    "response = requests.get(url+enpoint,params=payload,verify=False)"
   ]
  },
  {
   "cell_type": "code",
   "execution_count": 5,
   "metadata": {},
   "outputs": [],
   "source": [
    "# check if the server returned data\n",
    "if response.status_code == 200:\n",
    "    # read the response as a json object\n",
    "    jsonObj = response.json()\n",
    "    # check if there is not an error message\n",
    "    if 'error' not in jsonObj.keys():\n",
    "        # evaluate the result to a pandas dataframe\n",
    "        df = pd.DataFrame(**eval(jsonObj['result']))\n",
    "    else:\n",
    "        print(f\"Error: {jsonObj['error']}\")"
   ]
  },
  {
   "cell_type": "code",
   "execution_count": 6,
   "metadata": {},
   "outputs": [
    {
     "name": "stdout",
     "output_type": "stream",
     "text": [
      "Table size: rows - 123, columns - 13 \n",
      "\n"
     ]
    },
    {
     "data": {
      "text/html": [
       "<div>\n",
       "<style scoped>\n",
       "    .dataframe tbody tr th:only-of-type {\n",
       "        vertical-align: middle;\n",
       "    }\n",
       "\n",
       "    .dataframe tbody tr th {\n",
       "        vertical-align: top;\n",
       "    }\n",
       "\n",
       "    .dataframe thead th {\n",
       "        text-align: right;\n",
       "    }\n",
       "</style>\n",
       "<table border=\"1\" class=\"dataframe\">\n",
       "  <thead>\n",
       "    <tr style=\"text-align: right;\">\n",
       "      <th></th>\n",
       "      <th>time</th>\n",
       "      <th>lon</th>\n",
       "      <th>lat</th>\n",
       "      <th>alt</th>\n",
       "      <th>ice_range</th>\n",
       "      <th>model_dry_tropo_corr</th>\n",
       "      <th>model_wet_tropo_corr</th>\n",
       "      <th>iono_corr_gim</th>\n",
       "      <th>solid_earth_tide</th>\n",
       "      <th>pole_tide</th>\n",
       "      <th>geoid</th>\n",
       "      <th>fid</th>\n",
       "      <th>sensor</th>\n",
       "    </tr>\n",
       "  </thead>\n",
       "  <tbody>\n",
       "    <tr>\n",
       "      <th>0</th>\n",
       "      <td>1246669165431</td>\n",
       "      <td>104.480549</td>\n",
       "      <td>12.513966</td>\n",
       "      <td>1.340349e+06</td>\n",
       "      <td>1.340362e+06</td>\n",
       "      <td>-22972</td>\n",
       "      <td>-3076</td>\n",
       "      <td>-300</td>\n",
       "      <td>776</td>\n",
       "      <td>34</td>\n",
       "      <td>-168043</td>\n",
       "      <td>37635</td>\n",
       "      <td>jason2</td>\n",
       "    </tr>\n",
       "    <tr>\n",
       "      <th>1</th>\n",
       "      <td>1270657088071</td>\n",
       "      <td>104.482856</td>\n",
       "      <td>12.512983</td>\n",
       "      <td>1.340047e+06</td>\n",
       "      <td>1.340063e+06</td>\n",
       "      <td>-23035</td>\n",
       "      <td>-2645</td>\n",
       "      <td>-493</td>\n",
       "      <td>82</td>\n",
       "      <td>1</td>\n",
       "      <td>-167940</td>\n",
       "      <td>37546</td>\n",
       "      <td>jason2</td>\n",
       "    </tr>\n",
       "    <tr>\n",
       "      <th>2</th>\n",
       "      <td>1217540970808</td>\n",
       "      <td>104.482874</td>\n",
       "      <td>12.515214</td>\n",
       "      <td>1.340630e+06</td>\n",
       "      <td>1.340667e+06</td>\n",
       "      <td>-22969</td>\n",
       "      <td>-3664</td>\n",
       "      <td>-104</td>\n",
       "      <td>-2133</td>\n",
       "      <td>24</td>\n",
       "      <td>-168001</td>\n",
       "      <td>37985</td>\n",
       "      <td>jason2</td>\n",
       "    </tr>\n",
       "    <tr>\n",
       "      <th>3</th>\n",
       "      <td>1217540970859</td>\n",
       "      <td>104.483819</td>\n",
       "      <td>12.517702</td>\n",
       "      <td>1.340630e+06</td>\n",
       "      <td>1.340666e+06</td>\n",
       "      <td>-22969</td>\n",
       "      <td>-3665</td>\n",
       "      <td>-104</td>\n",
       "      <td>-2133</td>\n",
       "      <td>24</td>\n",
       "      <td>-168022</td>\n",
       "      <td>37986</td>\n",
       "      <td>jason2</td>\n",
       "    </tr>\n",
       "    <tr>\n",
       "      <th>4</th>\n",
       "      <td>1217540970910</td>\n",
       "      <td>104.484765</td>\n",
       "      <td>12.520191</td>\n",
       "      <td>1.340631e+06</td>\n",
       "      <td>1.340666e+06</td>\n",
       "      <td>-22970</td>\n",
       "      <td>-3665</td>\n",
       "      <td>-104</td>\n",
       "      <td>-2133</td>\n",
       "      <td>24</td>\n",
       "      <td>-168042</td>\n",
       "      <td>37987</td>\n",
       "      <td>jason2</td>\n",
       "    </tr>\n",
       "  </tbody>\n",
       "</table>\n",
       "</div>"
      ],
      "text/plain": [
       "            time         lon        lat           alt     ice_range  \\\n",
       "0  1246669165431  104.480549  12.513966  1.340349e+06  1.340362e+06   \n",
       "1  1270657088071  104.482856  12.512983  1.340047e+06  1.340063e+06   \n",
       "2  1217540970808  104.482874  12.515214  1.340630e+06  1.340667e+06   \n",
       "3  1217540970859  104.483819  12.517702  1.340630e+06  1.340666e+06   \n",
       "4  1217540970910  104.484765  12.520191  1.340631e+06  1.340666e+06   \n",
       "\n",
       "   model_dry_tropo_corr  model_wet_tropo_corr  iono_corr_gim  \\\n",
       "0                -22972                 -3076           -300   \n",
       "1                -23035                 -2645           -493   \n",
       "2                -22969                 -3664           -104   \n",
       "3                -22969                 -3665           -104   \n",
       "4                -22970                 -3665           -104   \n",
       "\n",
       "   solid_earth_tide  pole_tide   geoid    fid  sensor  \n",
       "0               776         34 -168043  37635  jason2  \n",
       "1                82          1 -167940  37546  jason2  \n",
       "2             -2133         24 -168001  37985  jason2  \n",
       "3             -2133         24 -168022  37986  jason2  \n",
       "4             -2133         24 -168042  37987  jason2  "
      ]
     },
     "execution_count": 6,
     "metadata": {},
     "output_type": "execute_result"
    }
   ],
   "source": [
    "# check the data to see what was returned\n",
    "print('Table size: rows - {}, columns - {} \\n'.format(*df.shape))\n",
    "df.head()"
   ]
  },
  {
   "cell_type": "code",
   "execution_count": 7,
   "metadata": {},
   "outputs": [],
   "source": [
    "# change the end point to getWaterLevel\n",
    "enpoint = \"getWaterLevel\""
   ]
  },
  {
   "cell_type": "code",
   "execution_count": 8,
   "metadata": {},
   "outputs": [],
   "source": [
    "# send the request\n",
    "response = requests.get(url+enpoint,params=payload,verify=False)"
   ]
  },
  {
   "cell_type": "code",
   "execution_count": 9,
   "metadata": {},
   "outputs": [],
   "source": [
    "# check if the server returned data\n",
    "if response.status_code == 200:\n",
    "    # read the response as a json object\n",
    "    jsonObj = response.json()\n",
    "    # check if there is not an error message\n",
    "    if 'error' not in jsonObj.keys():\n",
    "        # evaluate the result to a pandas series\n",
    "        series = pd.Series(**eval(jsonObj['result']))\n",
    "    else:\n",
    "        print(f\"Error: {jsonObj['error']}\")"
   ]
  },
  {
   "cell_type": "code",
   "execution_count": 10,
   "metadata": {},
   "outputs": [],
   "source": [
    "# convert the index values to datetime format\n",
    "series.index = pd.to_datetime((series.index*1e6).astype(np.int))"
   ]
  },
  {
   "cell_type": "code",
   "execution_count": 11,
   "metadata": {},
   "outputs": [
    {
     "data": {
      "image/png": "[encoded data removed]",
      "text/plain": [
       "<Figure size 720x360 with 1 Axes>"
      ]
     },
     "metadata": {
      "needs_background": "light"
     },
     "output_type": "display_data"
    }
   ],
   "source": [
    "# plot the water level series\n",
    "fig,ax = plt.subplots(figsize=(10,5))\n",
    "series.plot(ax=ax,marker='o',markersize=4)\n",
    "ax.set_ylabel('Height above reference ellipsoid [m]')\n",
    "plt.show()"
   ]
  }
 ],
 "metadata": {
  "kernelspec": {
   "display_name": "Python 3",
   "language": "python",
   "name": "python3"
  },
  "language_info": {
   "codemirror_mode": {
    "name": "ipython",
    "version": 3
   },
   "file_extension": ".py",
   "mimetype": "text/x-python",
   "name": "python",
   "nbconvert_exporter": "python",
   "pygments_lexer": "ipython3",
   "version": "3.6.10"
  }
 },
 "nbformat": 4,
 "nbformat_minor": 4
}
